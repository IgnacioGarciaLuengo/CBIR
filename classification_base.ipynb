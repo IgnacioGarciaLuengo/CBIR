{
 "cells": [
  {
   "cell_type": "code",
   "execution_count": 4,
   "metadata": {},
   "outputs": [
    {
     "data": {
      "text/plain": [
       "0      apparel/image25107.jpg\n",
       "1      apparel/image26799.jpg\n",
       "2      apparel/image23088.jpg\n",
       "3       apparel/image0421.jpg\n",
       "4      apparel/image15994.jpg\n",
       "                ...          \n",
       "655        toys/image2255.png\n",
       "656       toys/image2221.jpeg\n",
       "657       toys/image0019.jpeg\n",
       "658       toys/image1903.jpeg\n",
       "659       toys/image0621.jpeg\n",
       "Name: path, Length: 660, dtype: object"
      ]
     },
     "execution_count": 4,
     "metadata": {},
     "output_type": "execute_result"
    }
   ],
   "source": [
    "import pandas as pd\n",
    "\n",
    "df = pd.read_csv('images_meta.csv')\n",
    "df['path'] = \"images/\" + df['label'] + \"/\" + df['image_name']\n",
    "\n",
    "df[df['train'].values, ['images_name.csv', 'label', 'path', 'train']].to_csv(\"train.csv\") \n",
    "df[~df['train'].values, ['images_name.csv', 'label', 'path', 'train']].to_csv(\"test.csv\") "
   ]
  }
 ],
 "metadata": {
  "kernelspec": {
   "display_name": "min-data",
   "language": "python",
   "name": "python3"
  },
  "language_info": {
   "codemirror_mode": {
    "name": "ipython",
    "version": 3
   },
   "file_extension": ".py",
   "mimetype": "text/x-python",
   "name": "python",
   "nbconvert_exporter": "python",
   "pygments_lexer": "ipython3",
   "version": "3.8.13"
  }
 },
 "nbformat": 4,
 "nbformat_minor": 2
}
