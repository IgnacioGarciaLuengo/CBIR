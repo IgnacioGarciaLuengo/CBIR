{
 "cells": [
  {
   "cell_type": "code",
   "execution_count": 1,
   "metadata": {},
   "outputs": [],
   "source": [
    "import cv2\n",
    "import pandas as pd\n",
    "import numpy as np\n",
    "import matplotlib.pyplot as plt\n",
    "from tensorflow.keras.datasets import cifar10, cifar100\n",
    "from tqdm.notebook import tqdm "
   ]
  },
  {
   "cell_type": "code",
   "execution_count": 38,
   "metadata": {},
   "outputs": [
    {
     "name": "stdout",
     "output_type": "stream",
     "text": [
      "Dimensiones del subconjunto de imágenes: (10000, 32, 32, 3)\n"
     ]
    }
   ],
   "source": [
    "# Cargar el conjunto de datos CIFAR-10\n",
    "(x_train, y_train), (_, _) = cifar100.load_data()\n",
    "\n",
    "# Seleccionar las primeras 100 imágenes del conjunto de entrenamiento\n",
    "num_images = 10000\n",
    "x_subset = x_train[:num_images]\n",
    "y_subset = y_train[:num_images]\n",
    "\n",
    "# Verificar las dimensiones del subconjunto\n",
    "print(\"Dimensiones del subconjunto de imágenes:\", x_subset.shape)  # Debería ser (100, 32, 32, 3) para CIFAR-10\n",
    "\n",
    "# Ahora x_subset contiene las primeras 100 imágenes y y_subset contiene las etiquetas correspondientes\n",
    "# Puedes usar x_subset e y_subset en tu código para trabajar con estas imágenes.\n"
   ]
  },
  {
   "cell_type": "code",
   "execution_count": 41,
   "metadata": {},
   "outputs": [
    {
     "data": {
      "text/plain": [
       "<AxesSubplot:>"
      ]
     },
     "execution_count": 41,
     "metadata": {},
     "output_type": "execute_result"
    },
    {
     "data": {
      "image/png": "[encoded data removed]",
      "text/plain": [
       "<Figure size 640x480 with 1 Axes>"
      ]
     },
     "metadata": {},
     "output_type": "display_data"
    }
   ],
   "source": [
    "pd.value_counts(y_subset.flatten() , sort = False).sort_index().plot(kind='bar')"
   ]
  },
  {
   "cell_type": "code",
   "execution_count": 47,
   "metadata": {},
   "outputs": [
    {
     "data": {
      "application/json": {
       "ascii": false,
       "bar_format": null,
       "colour": null,
       "elapsed": 0.027429580688476562,
       "initial": 0,
       "n": 0,
       "ncols": null,
       "nrows": null,
       "postfix": null,
       "prefix": "",
       "rate": null,
       "total": 10000,
       "unit": "it",
       "unit_divisor": 1000,
       "unit_scale": false
      },
      "application/vnd.jupyter.widget-view+json": {
       "model_id": "9b5eca1eb5d3408ab7df490cbc56fd9a",
       "version_major": 2,
       "version_minor": 0
      },
      "text/plain": [
       "  0%|          | 0/10000 [00:00<?, ?it/s]"
      ]
     },
     "metadata": {},
     "output_type": "display_data"
    },
    {
     "name": "stdout",
     "output_type": "stream",
     "text": [
      "Dimensiones del descriptor de la primera imagen: (13, 128)\n"
     ]
    }
   ],
   "source": [
    "# Función para convertir imágenes a escala de grises y aplicar SIFT\n",
    "def convert_to_gray_and_apply_sift(images):\n",
    "    descriptors_list = []\n",
    "    sift = cv2.SIFT_create()\n",
    "    indice_imagen = []\n",
    "    for idx, img in tqdm(enumerate(images), total = len(images)):\n",
    "        # Convertir la imagen a escala de grises\n",
    "        gray_img = cv2.cvtColor(img, cv2.COLOR_BGR2GRAY)\n",
    "        # gray_img = cv2.resize()\n",
    "\n",
    "        # Aplicar SIFT en la imagen en escala de grises\n",
    "        _, descriptors = sift.detectAndCompute(gray_img, None)\n",
    "\n",
    "        if descriptors is None: continue    \n",
    "        \n",
    "        descriptors_list.append(descriptors)\n",
    "        indice_imagen += [idx] * descriptors.shape[0]\n",
    "\n",
    "\n",
    "    return descriptors_list, indice_imagen\n",
    "\n",
    "# Convertir las imágenes a escala de grises y aplicar SIFT en el subconjunto de imágenes\n",
    "descriptors_list, index = convert_to_gray_and_apply_sift(x_subset)\n",
    "\n",
    "print(\"Dimensiones del descriptor de la primera imagen:\", descriptors_list[1].shape)\n"
   ]
  },
  {
   "cell_type": "code",
   "execution_count": 48,
   "metadata": {},
   "outputs": [
    {
     "data": {
      "text/plain": [
       "1     103\n",
       "2     139\n",
       "3     161\n",
       "4     229\n",
       "5     311\n",
       "6     409\n",
       "7     441\n",
       "8     522\n",
       "9     567\n",
       "10    657\n",
       "11    707\n",
       "12    672\n",
       "13    717\n",
       "14    716\n",
       "15    627\n",
       "16    599\n",
       "17    508\n",
       "18    432\n",
       "19    332\n",
       "20    293\n",
       "21    220\n",
       "22    166\n",
       "23    137\n",
       "24     75\n",
       "25     48\n",
       "26     53\n",
       "27     28\n",
       "28     17\n",
       "29     12\n",
       "30      3\n",
       "31      5\n",
       "32      3\n",
       "33      4\n",
       "34      2\n",
       "35      1\n",
       "36      1\n",
       "38      1\n",
       "40      1\n",
       "48      1\n",
       "52      1\n",
       "69      1\n",
       "dtype: int64"
      ]
     },
     "execution_count": 48,
     "metadata": {},
     "output_type": "execute_result"
    }
   ],
   "source": [
    "pd.value_counts([v.shape[0] for v in descriptors_list]).sort_index()"
   ]
  },
  {
   "cell_type": "code",
   "execution_count": 49,
   "metadata": {},
   "outputs": [],
   "source": [
    "descriptors = np.concatenate(descriptors_list) # index"
   ]
  },
  {
   "cell_type": "code",
   "execution_count": 54,
   "metadata": {},
   "outputs": [
    {
     "data": {
      "application/json": {
       "ascii": false,
       "bar_format": null,
       "colour": null,
       "elapsed": 0.025823593139648438,
       "initial": 0,
       "n": 0,
       "ncols": null,
       "nrows": null,
       "postfix": null,
       "prefix": "",
       "rate": null,
       "total": 1,
       "unit": "it",
       "unit_divisor": 1000,
       "unit_scale": false
      },
      "application/vnd.jupyter.widget-view+json": {
       "model_id": "a6468105a0984a3fac91fdea196a7cf3",
       "version_major": 2,
       "version_minor": 0
      },
      "text/plain": [
       "  0%|          | 0/1 [00:00<?, ?it/s]"
      ]
     },
     "metadata": {},
     "output_type": "display_data"
    },
    {
     "name": "stderr",
     "output_type": "stream",
     "text": [
      "c:\\Users\\ruben\\anaconda3\\envs\\min-data\\lib\\site-packages\\matplotlib\\text.py:1223: FutureWarning: elementwise comparison failed; returning scalar instead, but in the future will perform elementwise comparison\n",
      "  if s != self._text:\n"
     ]
    },
    {
     "data": {
      "image/png": "[encoded data removed]",
      "text/plain": [
       "<Figure size 640x480 with 1 Axes>"
      ]
     },
     "metadata": {},
     "output_type": "display_data"
    }
   ],
   "source": [
    "test_image = x_train[10002]\n",
    "descriptor_busqueda,_ = convert_to_gray_and_apply_sift([test_image])\n",
    "\n",
    "plt.imshow(test_image)\n",
    "plt.title(y_train[1002]);"
   ]
  },
  {
   "cell_type": "code",
   "execution_count": 56,
   "metadata": {},
   "outputs": [
    {
     "data": {
      "text/plain": [
       "<matplotlib.image.AxesImage at 0x2892bec38b0>"
      ]
     },
     "execution_count": 56,
     "metadata": {},
     "output_type": "execute_result"
    },
    {
     "data": {
      "image/png": "[encoded data removed]",
      "text/plain": [
       "<Figure size 640x480 with 1 Axes>"
      ]
     },
     "metadata": {},
     "output_type": "display_data"
    }
   ],
   "source": [
    "plt.imshow(x_subset[4271])"
   ]
  },
  {
   "cell_type": "code",
   "execution_count": 52,
   "metadata": {},
   "outputs": [
    {
     "data": {
      "text/plain": [
       "(13, 128)"
      ]
     },
     "execution_count": 52,
     "metadata": {},
     "output_type": "execute_result"
    }
   ],
   "source": [
    "descriptor_busqueda[0].shape"
   ]
  },
  {
   "cell_type": "code",
   "execution_count": 55,
   "metadata": {},
   "outputs": [
    {
     "name": "stdout",
     "output_type": "stream",
     "text": [
      "9\n",
      "180\n"
     ]
    },
    {
     "data": {
      "text/plain": [
       "[(4271, 2),\n",
       " (6628, 2),\n",
       " (2129, 2),\n",
       " (7308, 2),\n",
       " (7705, 2),\n",
       " (3649, 2),\n",
       " (6184, 2),\n",
       " (8674, 2),\n",
       " (9719, 2),\n",
       " (6249, 2)]"
      ]
     },
     "execution_count": 55,
     "metadata": {},
     "output_type": "execute_result"
    }
   ],
   "source": [
    "from sklearn.neighbors import NearestNeighbors\n",
    "from collections import Counter\n",
    "\n",
    "# Crear un modelo de k-NN\n",
    "knn_model = NearestNeighbors(n_neighbors=30)  # Buscar los 5 vecinos más cercanos\n",
    "knn_model.fit(descriptors)  # Ajustar el modelo a los descriptores\n",
    "\n",
    "# Función para encontrar los vecinos más cercanos para un descriptor dado\n",
    "def find_nearest_neighbors(descriptor, k = 10):\n",
    "    descriptor_flat = descriptor.flatten()\n",
    "    # Encontrar los índices y distancias de los vecinos más cercanos\n",
    "    distances, indices = knn_model.kneighbors([descriptor_flat], k)  # Obtener k vecinos más cercanos\n",
    "    return distances, indices\n",
    "\n",
    "# Ejemplo: Encontrar vecinos más cercanos para el primer descriptor en la primera imagen\n",
    "contador = Counter()\n",
    "lista = []\n",
    "print(len(descriptor_busqueda[0]))\n",
    "for descriptor in descriptor_busqueda[0]:\n",
    "    distances, indices = find_nearest_neighbors(descriptor, 20)\n",
    "    lista.extend([index[indice] for indice in indices[0]])\n",
    "\n",
    "print(len(lista))\n",
    "Counter(lista).most_common(10)\n",
    "# Imprimir los índices de los vecinos más cercanos y sus distancias\n",
    "#print(\"Índices de los vecinos más cercanos:\", indices)\n",
    "#print(\"Distancias a los vecinos más cercanos:\", distances)\n"
   ]
  }
 ],
 "metadata": {
  "kernelspec": {
   "display_name": "Python 3",
   "language": "python",
   "name": "python3"
  },
  "language_info": {
   "codemirror_mode": {
    "name": "ipython",
    "version": 3
   },
   "file_extension": ".py",
   "mimetype": "text/x-python",
   "name": "python",
   "nbconvert_exporter": "python",
   "pygments_lexer": "ipython3",
   "version": "3.8.13"
  }
 },
 "nbformat": 4,
 "nbformat_minor": 2
}
