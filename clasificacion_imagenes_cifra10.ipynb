{
 "cells": [
  {
   "cell_type": "code",
   "execution_count": 2,
   "metadata": {},
   "outputs": [
    {
     "data": {
      "text/html": [
       "<div>\n",
       "<style scoped>\n",
       "    .dataframe tbody tr th:only-of-type {\n",
       "        vertical-align: middle;\n",
       "    }\n",
       "\n",
       "    .dataframe tbody tr th {\n",
       "        vertical-align: top;\n",
       "    }\n",
       "\n",
       "    .dataframe thead th {\n",
       "        text-align: right;\n",
       "    }\n",
       "</style>\n",
       "<table border=\"1\" class=\"dataframe\">\n",
       "  <thead>\n",
       "    <tr style=\"text-align: right;\">\n",
       "      <th></th>\n",
       "      <th>image_name</th>\n",
       "      <th>label</th>\n",
       "      <th>path</th>\n",
       "      <th>train</th>\n",
       "      <th>label_id</th>\n",
       "      <th>image_id</th>\n",
       "    </tr>\n",
       "  </thead>\n",
       "  <tbody>\n",
       "    <tr>\n",
       "      <th>0</th>\n",
       "      <td>image25107.jpg</td>\n",
       "      <td>apparel</td>\n",
       "      <td>images/apparel/image25107.jpg</td>\n",
       "      <td>True</td>\n",
       "      <td>9</td>\n",
       "      <td>0</td>\n",
       "    </tr>\n",
       "    <tr>\n",
       "      <th>1</th>\n",
       "      <td>image26799.jpg</td>\n",
       "      <td>apparel</td>\n",
       "      <td>images/apparel/image26799.jpg</td>\n",
       "      <td>True</td>\n",
       "      <td>9</td>\n",
       "      <td>1</td>\n",
       "    </tr>\n",
       "    <tr>\n",
       "      <th>2</th>\n",
       "      <td>image23088.jpg</td>\n",
       "      <td>apparel</td>\n",
       "      <td>images/apparel/image23088.jpg</td>\n",
       "      <td>True</td>\n",
       "      <td>9</td>\n",
       "      <td>2</td>\n",
       "    </tr>\n",
       "    <tr>\n",
       "      <th>3</th>\n",
       "      <td>image0421.jpg</td>\n",
       "      <td>apparel</td>\n",
       "      <td>images/apparel/image0421.jpg</td>\n",
       "      <td>True</td>\n",
       "      <td>9</td>\n",
       "      <td>3</td>\n",
       "    </tr>\n",
       "    <tr>\n",
       "      <th>4</th>\n",
       "      <td>image15994.jpg</td>\n",
       "      <td>apparel</td>\n",
       "      <td>images/apparel/image15994.jpg</td>\n",
       "      <td>True</td>\n",
       "      <td>9</td>\n",
       "      <td>4</td>\n",
       "    </tr>\n",
       "  </tbody>\n",
       "</table>\n",
       "</div>"
      ],
      "text/plain": [
       "       image_name    label                           path  train  label_id  \\\n",
       "0  image25107.jpg  apparel  images/apparel/image25107.jpg   True         9   \n",
       "1  image26799.jpg  apparel  images/apparel/image26799.jpg   True         9   \n",
       "2  image23088.jpg  apparel  images/apparel/image23088.jpg   True         9   \n",
       "3   image0421.jpg  apparel   images/apparel/image0421.jpg   True         9   \n",
       "4  image15994.jpg  apparel  images/apparel/image15994.jpg   True         9   \n",
       "\n",
       "   image_id  \n",
       "0         0  \n",
       "1         1  \n",
       "2         2  \n",
       "3         3  \n",
       "4         4  "
      ]
     },
     "execution_count": 2,
     "metadata": {},
     "output_type": "execute_result"
    }
   ],
   "source": [
    "import pandas as pd\n",
    "import numpy as np\n",
    "import matplotlib.pyplot as plt\n",
    "import cv2\n",
    "\n",
    "%reload_ext autoreload\n",
    "from utils import load_images, load_features, save_features\n",
    "\n",
    "images_paths, images = load_images(True)\n",
    "images_paths.head()"
   ]
  },
  {
   "cell_type": "code",
   "execution_count": 3,
   "metadata": {},
   "outputs": [
    {
     "data": {
      "text/plain": [
       "(550, 6)"
      ]
     },
     "execution_count": 3,
     "metadata": {},
     "output_type": "execute_result"
    }
   ],
   "source": [
    "images_paths.shape"
   ]
  },
  {
   "cell_type": "code",
   "execution_count": 2,
   "metadata": {},
   "outputs": [
    {
     "name": "stdout",
     "output_type": "stream",
     "text": [
      "Dimensiones del descriptor de la primera imagen: (73, 128)\n"
     ]
    }
   ],
   "source": [
    "# Función para convertir imágenes a escala de grises y aplicar SIFT\n",
    "def convert_to_gray_and_apply_sift(images):\n",
    "    gray_images = []\n",
    "    descriptors_list = []\n",
    "    indice_imagen = []\n",
    "\n",
    "    sift = cv2.SIFT_create()\n",
    "    for idx, img in enumerate(images):\n",
    "        # Convertir la imagen a escala de grises\n",
    "        gray_img = cv2.cvtColor(img, cv2.COLOR_RGB2GRAY)\n",
    "        # gray_img = cv2.resize()\n",
    "        gray_images.append(gray_img)\n",
    "\n",
    "        # Aplicar SIFT en la imagen en escala de grises\n",
    "        _, descriptors = sift.detectAndCompute(gray_img, None)\n",
    "        if not(descriptors is None) and len(descriptors) > 3:\n",
    "            descriptors_list.append(descriptors)\n",
    "            indice_imagen += [idx] * descriptors.shape[0]\n",
    "        else:\n",
    "            pass\n",
    "            # print(img.shape)\n",
    "            # plt.imshow(img)\n",
    "        \n",
    "\n",
    "    return descriptors_list, indice_imagen\n",
    "\n",
    "# Convertir las imágenes a escala de grises y aplicar SIFT en el subconjunto de imágenes\n",
    "descriptors, index = convert_to_gray_and_apply_sift(images)\n",
    "print(\"Dimensiones del descriptor de la primera imagen:\", descriptors[1].shape)\n",
    "#descriptors = np.concatenate(descriptors)\n"
   ]
  },
  {
   "cell_type": "code",
   "execution_count": 3,
   "metadata": {},
   "outputs": [],
   "source": [
    "save_features(descriptors, index, images_paths, \"descriptors\")"
   ]
  },
  {
   "cell_type": "code",
   "execution_count": 3,
   "metadata": {},
   "outputs": [
    {
     "data": {
      "text/html": [
       "<div>\n",
       "<style scoped>\n",
       "    .dataframe tbody tr th:only-of-type {\n",
       "        vertical-align: middle;\n",
       "    }\n",
       "\n",
       "    .dataframe tbody tr th {\n",
       "        vertical-align: top;\n",
       "    }\n",
       "\n",
       "    .dataframe thead th {\n",
       "        text-align: right;\n",
       "    }\n",
       "</style>\n",
       "<table border=\"1\" class=\"dataframe\">\n",
       "  <thead>\n",
       "    <tr style=\"text-align: right;\">\n",
       "      <th></th>\n",
       "      <th>image_id</th>\n",
       "      <th>label_id</th>\n",
       "    </tr>\n",
       "  </thead>\n",
       "  <tbody>\n",
       "    <tr>\n",
       "      <th>0</th>\n",
       "      <td>0</td>\n",
       "      <td>9</td>\n",
       "    </tr>\n",
       "    <tr>\n",
       "      <th>1</th>\n",
       "      <td>0</td>\n",
       "      <td>9</td>\n",
       "    </tr>\n",
       "    <tr>\n",
       "      <th>2</th>\n",
       "      <td>0</td>\n",
       "      <td>9</td>\n",
       "    </tr>\n",
       "    <tr>\n",
       "      <th>3</th>\n",
       "      <td>0</td>\n",
       "      <td>9</td>\n",
       "    </tr>\n",
       "    <tr>\n",
       "      <th>4</th>\n",
       "      <td>0</td>\n",
       "      <td>9</td>\n",
       "    </tr>\n",
       "  </tbody>\n",
       "</table>\n",
       "</div>"
      ],
      "text/plain": [
       "   image_id  label_id\n",
       "0         0         9\n",
       "1         0         9\n",
       "2         0         9\n",
       "3         0         9\n",
       "4         0         9"
      ]
     },
     "execution_count": 3,
     "metadata": {},
     "output_type": "execute_result"
    }
   ],
   "source": [
    "meta, features = load_features('features/descriptors.csv')\n",
    "meta.head()"
   ]
  },
  {
   "cell_type": "code",
   "execution_count": null,
   "metadata": {},
   "outputs": [
    {
     "data": {
      "image/png": "[encoded data removed]",
      "text/plain": [
       "<Figure size 640x480 with 1 Axes>"
      ]
     },
     "metadata": {},
     "output_type": "display_data"
    }
   ],
   "source": [
    "img_busqueda = x_train[1001]\n",
    "plt.imshow(img_busqueda)\n",
    "\n",
    "_,_,descriptor_busqueda,_ = convert_to_gray_and_apply_sift([img_busqueda])\n",
    "\n"
   ]
  },
  {
   "cell_type": "code",
   "execution_count": null,
   "metadata": {},
   "outputs": [
    {
     "data": {
      "text/plain": [
       "<matplotlib.image.AxesImage at 0x19652c0fed0>"
      ]
     },
     "execution_count": 96,
     "metadata": {},
     "output_type": "execute_result"
    },
    {
     "data": {
      "image/png": "[encoded data removed]",
      "text/plain": [
       "<Figure size 640x480 with 1 Axes>"
      ]
     },
     "metadata": {},
     "output_type": "display_data"
    }
   ],
   "source": [
    "plt.imshow(x_subset[453])"
   ]
  },
  {
   "cell_type": "code",
   "execution_count": null,
   "metadata": {},
   "outputs": [
    {
     "data": {
      "text/plain": [
       "(14, 128)"
      ]
     },
     "execution_count": 58,
     "metadata": {},
     "output_type": "execute_result"
    }
   ],
   "source": [
    "descriptor_busqueda[0].shape"
   ]
  },
  {
   "cell_type": "code",
   "execution_count": null,
   "metadata": {},
   "outputs": [
    {
     "name": "stdout",
     "output_type": "stream",
     "text": [
      "14\n",
      "280\n"
     ]
    },
    {
     "data": {
      "text/plain": [
       "[(263, 5),\n",
       " (762, 4),\n",
       " (381, 4),\n",
       " (207, 3),\n",
       " (166, 3),\n",
       " (81, 3),\n",
       " (956, 3),\n",
       " (508, 3),\n",
       " (779, 3),\n",
       " (453, 2)]"
      ]
     },
     "execution_count": 93,
     "metadata": {},
     "output_type": "execute_result"
    }
   ],
   "source": [
    "from sklearn.neighbors import NearestNeighbors\n",
    "from collections import Counter\n",
    "\n",
    "# Crear un modelo de k-NN\n",
    "knn_model = NearestNeighbors(n_neighbors=30)  # Buscar los 5 vecinos más cercanos\n",
    "knn_model.fit(lista_desciptores_aplanado)  # Ajustar el modelo a los descriptores\n",
    "\n",
    "# Función para encontrar los vecinos más cercanos para un descriptor dado\n",
    "def find_nearest_neighbors(descriptor, k = 10):\n",
    "    descriptor_flat = descriptor.flatten()\n",
    "    # Encontrar los índices y distancias de los vecinos más cercanos\n",
    "    distances, indices = knn_model.kneighbors([descriptor_flat], k)  # Obtener k vecinos más cercanos\n",
    "    return distances, indices\n",
    "\n",
    "# Ejemplo: Encontrar vecinos más cercanos para el primer descriptor en la primera imagen\n",
    "contador = Counter()\n",
    "lista = []\n",
    "print(len(descriptor_busqueda[0]))\n",
    "for descriptor in descriptor_busqueda[0]:\n",
    "    distances, indices = find_nearest_neighbors(descriptor, 20)\n",
    "    lista.extend([index[indice] for indice in indices[0]])\n",
    "\n",
    "print(len(lista))\n",
    "Counter(lista).most_common(10)\n",
    "# Imprimir los índices de los vecinos más cercanos y sus distancias\n",
    "#print(\"Índices de los vecinos más cercanos:\", indices)\n",
    "#print(\"Distancias a los vecinos más cercanos:\", distances)\n"
   ]
  }
 ],
 "metadata": {
  "kernelspec": {
   "display_name": "Python 3",
   "language": "python",
   "name": "python3"
  },
  "language_info": {
   "codemirror_mode": {
    "name": "ipython",
    "version": 3
   },
   "file_extension": ".py",
   "mimetype": "text/x-python",
   "name": "python",
   "nbconvert_exporter": "python",
   "pygments_lexer": "ipython3",
   "version": "3.8.13"
  }
 },
 "nbformat": 4,
 "nbformat_minor": 2
}
